{
 "cells": [
  {
   "cell_type": "markdown",
   "metadata": {},
   "source": [
    "Install MedMNIST"
   ]
  },
  {
   "cell_type": "code",
   "execution_count": 33,
   "metadata": {},
   "outputs": [],
   "source": [
    "# !pip install medmnist"
   ]
  },
  {
   "cell_type": "markdown",
   "metadata": {},
   "source": [
    "Imports"
   ]
  },
  {
   "cell_type": "code",
   "execution_count": 34,
   "metadata": {},
   "outputs": [],
   "source": [
    "from tqdm import tqdm\n",
    "import numpy as np\n",
    "import torch\n",
    "import torch.nn as nn\n",
    "import torch.optim as optim\n",
    "import torch.utils.data as data\n",
    "import torchvision.transforms as transforms\n",
    "\n",
    "import medmnist\n",
    "from medmnist import INFO, Evaluator\n",
    "\n",
    "import einops"
   ]
  },
  {
   "cell_type": "code",
   "execution_count": 35,
   "metadata": {},
   "outputs": [
    {
     "name": "stdout",
     "output_type": "stream",
     "text": [
      "MedMNIST v3.0.2 @ https://github.com/MedMNIST/MedMNIST/\n"
     ]
    }
   ],
   "source": [
    "print(f\"MedMNIST v{medmnist.__version__} @ {medmnist.HOMEPAGE}\")"
   ]
  },
  {
   "cell_type": "markdown",
   "metadata": {},
   "source": [
    "We first work on a 2D dataset with size 28x28"
   ]
  },
  {
   "cell_type": "code",
   "execution_count": null,
   "metadata": {},
   "outputs": [],
   "source": [
    "data_flag = 'breastmnist'\n",
    "# data_flag = 'breastmnist' OR 'pathmnist\"\n",
    "download = True\n",
    "\n",
    "NUM_EPOCHS = 3\n",
    "batch_size = 2\n",
    "lr = 0.001\n",
    "\n",
    "device = \"cuda:0\" if torch.cuda.is_available() else \"cpu\"\n",
    "patch_size = 14\n",
    "latent_size = 28\n",
    "n_channels = 1\n",
    "num_heads = 2\n",
    "num_encoders = 12\n",
    "dropout = 0.1\n",
    "num_classes = 2\n",
    "#size = 28\n",
    "\n",
    "\n",
    "info = INFO[data_flag]\n",
    "task = info['task']\n",
    "n_channels = info['n_channels']\n",
    "n_classes = len(info['label'])\n",
    "\n",
    "DataClass = getattr(medmnist, info['python_class'])"
   ]
  },
  {
   "cell_type": "code",
   "execution_count": 37,
   "metadata": {},
   "outputs": [
    {
     "name": "stdout",
     "output_type": "stream",
     "text": [
      "{'python_class': 'BreastMNIST', 'description': 'The BreastMNIST is based on a dataset of 780 breast ultrasound images. It is categorized into 3 classes: normal, benign, and malignant. As we use low-resolution images, we simplify the task into binary classification by combining normal and benign as positive and classifying them against malignant as negative. We split the source dataset with a ratio of 7:1:2 into training, validation and test set. The source images of 1×500×500 are resized into 1×28×28.', 'url': 'https://zenodo.org/records/10519652/files/breastmnist.npz?download=1', 'MD5': '750601b1f35ba3300ea97c75c52ff8f6', 'url_64': 'https://zenodo.org/records/10519652/files/breastmnist_64.npz?download=1', 'MD5_64': '742edef2a1fd1524b2efff4bd7ba9364', 'url_128': 'https://zenodo.org/records/10519652/files/breastmnist_128.npz?download=1', 'MD5_128': '363e4b3f8d712e9b5de15470a2aaadf1', 'url_224': 'https://zenodo.org/records/10519652/files/breastmnist_224.npz?download=1', 'MD5_224': 'b56378a6eefa9fed602bb16d192d4c8b', 'task': 'binary-class', 'label': {'0': 'malignant', '1': 'normal, benign'}, 'n_channels': 1, 'n_samples': {'train': 546, 'val': 78, 'test': 156}, 'license': 'CC BY 4.0'}\n",
      "binary-class\n",
      "1\n",
      "2\n",
      "<class 'medmnist.dataset.BreastMNIST'>\n"
     ]
    }
   ],
   "source": [
    "print(info)\n",
    "print(task)\n",
    "print(n_channels)\n",
    "print(n_classes)\n",
    "print(DataClass)"
   ]
  },
  {
   "cell_type": "markdown",
   "metadata": {},
   "source": [
    "First, we read the MedMNIST data, preprocess them and encapsulate them into dataloader form."
   ]
  },
  {
   "cell_type": "code",
   "execution_count": 38,
   "metadata": {},
   "outputs": [],
   "source": [
    "# preprocessing\n",
    "data_transform = transforms.Compose([\n",
    "    transforms.ToTensor(), #from PIL (Python Image Library Format) to PyTorch Tensor, normalised to [0,1]\n",
    "    transforms.Normalize(mean=[.5], std=[.5]) #(image-mean)/std --> scaling [-1,1]\n",
    "])\n",
    "\n",
    "# load the data\n",
    "train_dataset = DataClass(split='train', transform=data_transform, download=download)\n",
    "test_dataset = DataClass(split='test', transform=data_transform, download=download)\n",
    "\n",
    "pil_dataset = DataClass(split='train', download=download)\n",
    "\n",
    "# encapsulate data into dataloader form\n",
    "train_loader = data.DataLoader(dataset=train_dataset, batch_size=batch_size, shuffle=True)\n",
    "train_loader_at_eval = data.DataLoader(dataset=train_dataset, batch_size=2*batch_size, shuffle=False) #2*batch_size\n",
    "test_loader = data.DataLoader(dataset=test_dataset, batch_size=2*batch_size, shuffle=False) #2*batch_size"
   ]
  },
  {
   "cell_type": "code",
   "execution_count": 39,
   "metadata": {},
   "outputs": [
    {
     "name": "stdout",
     "output_type": "stream",
     "text": [
      "Dataset BreastMNIST of size 28 (breastmnist)\n",
      "    Number of datapoints: 546\n",
      "    Root location: /home/wiebketeetz/.medmnist\n",
      "    Split: train\n",
      "    Task: binary-class\n",
      "    Number of channels: 1\n",
      "    Meaning of labels: {'0': 'malignant', '1': 'normal, benign'}\n",
      "    Number of samples: {'train': 546, 'val': 78, 'test': 156}\n",
      "    Description: The BreastMNIST is based on a dataset of 780 breast ultrasound images. It is categorized into 3 classes: normal, benign, and malignant. As we use low-resolution images, we simplify the task into binary classification by combining normal and benign as positive and classifying them against malignant as negative. We split the source dataset with a ratio of 7:1:2 into training, validation and test set. The source images of 1×500×500 are resized into 1×28×28.\n",
      "    License: CC BY 4.0\n",
      "===================\n",
      "Dataset BreastMNIST of size 28 (breastmnist)\n",
      "    Number of datapoints: 156\n",
      "    Root location: /home/wiebketeetz/.medmnist\n",
      "    Split: test\n",
      "    Task: binary-class\n",
      "    Number of channels: 1\n",
      "    Meaning of labels: {'0': 'malignant', '1': 'normal, benign'}\n",
      "    Number of samples: {'train': 546, 'val': 78, 'test': 156}\n",
      "    Description: The BreastMNIST is based on a dataset of 780 breast ultrasound images. It is categorized into 3 classes: normal, benign, and malignant. As we use low-resolution images, we simplify the task into binary classification by combining normal and benign as positive and classifying them against malignant as negative. We split the source dataset with a ratio of 7:1:2 into training, validation and test set. The source images of 1×500×500 are resized into 1×28×28.\n",
      "    License: CC BY 4.0\n",
      "===================\n",
      "<torch.utils.data.dataloader.DataLoader object at 0x7fd632dffc10>\n"
     ]
    }
   ],
   "source": [
    "print(train_dataset)\n",
    "print(\"===================\")\n",
    "print(test_dataset)\n",
    "print(\"===================\")\n",
    "print(train_loader)"
   ]
  },
  {
   "cell_type": "code",
   "execution_count": 40,
   "metadata": {},
   "outputs": [
    {
     "data": {
      "image/jpeg": "[encoded data removed]",
      "image/png": "[encoded data removed]",
      "text/plain": [
       "<PIL.Image.Image image mode=L size=28x28>"
      ]
     },
     "execution_count": 40,
     "metadata": {},
     "output_type": "execute_result"
    }
   ],
   "source": [
    "# visualization\n",
    "\n",
    "train_dataset.montage(length=1)"
   ]
  },
  {
   "cell_type": "code",
   "execution_count": 41,
   "metadata": {},
   "outputs": [
    {
     "data": {
      "image/jpeg": "[encoded data removed]",
      "image/png": "[encoded data removed]",
      "text/plain": [
       "<PIL.Image.Image image mode=L size=280x280>"
      ]
     },
     "execution_count": 41,
     "metadata": {},
     "output_type": "execute_result"
    }
   ],
   "source": [
    "# montage\n",
    "\n",
    "train_dataset.montage(length=10)"
   ]
  },
  {
   "cell_type": "markdown",
   "metadata": {},
   "source": [
    "Set Parameters and Implement Encoder-Block for ViT"
   ]
  },
  {
   "cell_type": "code",
   "execution_count": 42,
   "metadata": {},
   "outputs": [],
   "source": [
    "class InputEmbedding(nn.Module):\n",
    "    def __init__(self, patch_size = patch_size, n_channels = n_channels, device = device, latent_size = latent_size, batch_size = batch_size):\n",
    "        super(InputEmbedding, self).__init__()\n",
    "        self.latent_size = latent_size\n",
    "        self.patch_size = patch_size\n",
    "        self.n_channels = n_channels\n",
    "        self.device = device\n",
    "        self.batch_size = batch_size\n",
    "        self.input_size = self.patch_size*self.patch_size*self.n_channels\n",
    "\n",
    "        #Linear Projection\n",
    "        self.linearProjection = nn.Linear(self.input_size, self.latent_size)\n",
    "\n",
    "        #Class Token\n",
    "                                              # how many in 1 batch? 1Token  dimensions\n",
    "        self.class_token = nn.Parameter(torch.randn(1, 1, self.latent_size)).to(self.device)\n",
    "\n",
    "        #Positional Embedding\n",
    "        self.pos_embedding =nn.Parameter(torch.randn(1, 1, self.latent_size)).to(self.device)\n",
    "\n",
    "    def forward(self, input_data):\n",
    "        input_data = input_data.to(self.device)\n",
    "\n",
    "        # Patchify Input Image\n",
    "        patches = einops.rearrange(\n",
    "            input_data, \"b c (h h1) (w w1) -> b (h w) (h1 w1 c)\", h1 = self.patch_size, w1 = self.patch_size)\n",
    "        \n",
    "        #print(input_data.size())\n",
    "        #print(patches.size())\n",
    "\n",
    "        linear_projection = self.linearProjection(patches).to(self.device)\n",
    "        b, n, _ = linear_projection.shape\n",
    "\n",
    "        linear_projection = torch.cat((self.class_token, linear_projection), dim = 1) #entlang der 1. Dim hinzugefügt\n",
    "        pos_embed = einops.repeat(self.pos_embedding, \"b 1 d -> b m d\", m = n + 1)\n",
    "        \n",
    "        #print(linear_projection.size())\n",
    "        #print(pos_embed.size())\n",
    "\n",
    "        linear_projection += pos_embed\n",
    "\n",
    "        return linear_projection"
   ]
  },
  {
   "cell_type": "code",
   "execution_count": 43,
   "metadata": {},
   "outputs": [],
   "source": [
    "class EncoderBlock(nn.Module):\n",
    "    def __init__(self, latent_size = latent_size, num_heads = num_heads, device = device, dropout = dropout):\n",
    "        super(EncoderBlock, self).__init__()\n",
    "\n",
    "        self.latent_size = latent_size\n",
    "        self.num_heads = num_heads\n",
    "        self.device = device\n",
    "        self.dropout = dropout\n",
    "\n",
    "        #Normalization layer\n",
    "        self.norm = nn.LayerNorm(self.latent_size)\n",
    "      \n",
    "        self.multihead = nn.MultiheadAttention(\n",
    "            self.latent_size, self.num_heads, dropout = self.dropout)\n",
    "        \n",
    "        self.enc_MLP = nn.Sequential(\n",
    "            nn.Linear(self.latent_size, self.latent_size*4),\n",
    "            nn.GELU(),\n",
    "            nn.Dropout(self.dropout),\n",
    "            nn.Linear(self.latent_size*4,self.latent_size),\n",
    "            nn.Dropout(self.dropout)\n",
    "        )\n",
    "\n",
    "    def forward(self, embedded_patches):\n",
    "        firstnorm_out = self.norm(embedded_patches)\n",
    "        attention_out = self.multihead(firstnorm_out, firstnorm_out, firstnorm_out)[0]\n",
    "\n",
    "        #first residual connection\n",
    "        first_added = attention_out + embedded_patches\n",
    "\n",
    "        secondnorm_out = self.norm(first_added)\n",
    "        ff_output = self.enc_MLP(secondnorm_out)\n",
    "\n",
    "        output = ff_output + first_added\n",
    "\n",
    "        #print(embedded_patches.size())\n",
    "        #print(output.size())\n",
    "\n",
    "        return output"
   ]
  },
  {
   "cell_type": "markdown",
   "metadata": {},
   "source": [
    "Test Encoder Block"
   ]
  },
  {
   "cell_type": "code",
   "execution_count": 44,
   "metadata": {},
   "outputs": [
    {
     "data": {
      "text/plain": [
       "tensor([[[ 2.6638e-01,  4.9048e-01, -1.0334e-01, -2.9088e-01,  6.9465e-02,\n",
       "           6.9279e-01,  3.2491e-01, -3.9923e-01,  4.4079e-01,  5.0622e-01,\n",
       "          -1.6529e-01,  7.3030e-01,  4.5809e-01, -6.8278e-01, -2.9916e-01,\n",
       "          -1.7663e-01,  2.3815e-01, -1.6220e-01,  9.6450e-01,  4.9981e-01,\n",
       "           1.3442e+00, -7.7447e-01,  2.5914e-01,  5.5926e-01,  4.4335e-01,\n",
       "           4.2181e-01,  3.4575e-01,  1.8239e-01],\n",
       "         [-5.9274e-01,  1.1028e-03, -4.1618e-01, -9.5416e-01, -5.5616e-01,\n",
       "          -6.2284e-01,  7.3485e-02, -7.0379e-01, -4.5789e-01,  2.8214e-01,\n",
       "          -6.8163e-02, -3.1482e-01,  3.4818e-01, -4.1205e-01, -2.6243e-03,\n",
       "          -8.6401e-01,  3.9416e-02, -3.6882e-01, -1.8243e-01,  2.8257e-01,\n",
       "           4.2795e-01,  4.7080e-02,  3.0916e-01,  5.1918e-01, -1.1342e-01,\n",
       "           7.8275e-02,  9.1906e-02, -3.9795e-01],\n",
       "         [-8.2946e-01,  3.7145e-02, -1.2293e+00, -4.2480e-01, -1.6790e-01,\n",
       "           4.7977e-01,  1.4016e-01, -1.1998e+00,  6.7291e-01,  3.0078e-01,\n",
       "          -1.0361e+00,  3.3765e-01,  2.8609e-01, -1.2513e+00, -4.8355e-01,\n",
       "          -1.5113e+00,  1.1835e-01, -7.7107e-01,  6.9083e-01,  7.5362e-01,\n",
       "           1.8939e-01, -3.3583e-01, -2.3652e-01,  6.8369e-01, -1.6728e-01,\n",
       "          -9.0380e-02, -3.5409e-01, -4.3366e-01],\n",
       "         [-4.8546e-01, -3.3414e-02, -1.1311e+00, -3.5079e-01,  4.0604e-01,\n",
       "           3.7887e-02,  4.4262e-01, -5.6198e-01,  6.1806e-01, -9.1740e-02,\n",
       "          -2.2465e-01,  3.4518e-01, -7.5060e-02, -9.2184e-01,  3.2805e-02,\n",
       "          -7.9583e-01, -9.6462e-02, -2.8430e-02,  2.4105e-02, -2.5389e-01,\n",
       "           4.4623e-01,  1.7804e-01,  3.3870e-01, -6.0708e-02, -3.5461e-01,\n",
       "          -4.9700e-02,  3.9585e-01, -4.2734e-02],\n",
       "         [-8.4092e-01,  1.5516e-01, -1.0937e+00, -6.3284e-01, -1.8975e-01,\n",
       "          -2.9088e-01, -1.0267e-01, -1.0783e+00,  3.6994e-01, -8.8153e-02,\n",
       "          -7.5264e-01,  2.4137e-01,  3.0070e-01, -8.6030e-01, -3.2988e-01,\n",
       "          -1.1670e+00,  3.0319e-01, -6.9889e-01,  6.4124e-02, -3.8960e-02,\n",
       "           8.7192e-01, -3.5223e-02,  7.2173e-02, -6.4963e-03, -3.5288e-01,\n",
       "          -1.1035e-01,  4.0811e-01, -3.1375e-01],\n",
       "         [-4.4423e-01, -5.2390e-02, -1.3180e+00, -7.5994e-01, -5.3853e-01,\n",
       "          -2.1164e-01, -4.4463e-01, -1.2131e+00,  5.5390e-01,  2.8729e-01,\n",
       "          -1.2162e+00,  5.9954e-01,  5.4276e-02, -1.1629e+00, -9.8336e-01,\n",
       "          -1.6140e+00,  2.4412e-01, -9.0352e-01,  8.1659e-01,  5.6671e-01,\n",
       "           9.0888e-01, -5.3883e-01, -1.4018e-01,  4.4042e-01,  1.3272e-01,\n",
       "           1.3881e-01, -1.1667e-01, -2.7975e-01],\n",
       "         [-4.6599e-01,  1.8273e-01, -1.0921e+00, -1.1855e+00, -4.8368e-01,\n",
       "          -5.5948e-01, -2.2095e-01, -1.0096e+00,  5.1687e-02,  2.2378e-01,\n",
       "          -3.0728e-01,  4.6302e-01,  2.8362e-01, -6.1285e-01, -5.5610e-01,\n",
       "          -8.9591e-01,  3.4256e-01, -5.1788e-01,  7.8364e-01,  5.4826e-01,\n",
       "           1.8149e+00, -8.2597e-01, -9.7446e-02,  5.5799e-01, -2.0219e-01,\n",
       "           4.7005e-01,  1.4025e-02,  1.0022e-01],\n",
       "         [-4.5872e-01,  7.1688e-02, -9.1093e-01, -6.6459e-01,  1.7476e-01,\n",
       "          -7.3283e-01,  7.3416e-01,  2.6610e-01,  6.0568e-01,  3.5852e-01,\n",
       "           4.6544e-02,  7.1940e-01, -2.6712e-01, -5.9926e-01,  4.5387e-02,\n",
       "           8.8840e-01, -3.9235e-02,  7.4344e-02, -1.4023e-01, -2.9236e-01,\n",
       "           1.1178e+00, -8.3531e-01,  8.6348e-01,  1.6925e-01,  2.6824e-02,\n",
       "           9.1891e-01,  1.1746e+00,  7.9313e-01],\n",
       "         [-6.8697e-01,  4.6005e-01, -1.0549e+00, -9.8417e-01,  1.1161e-01,\n",
       "          -7.8330e-01,  1.1836e+00, -2.9361e-01,  7.3050e-01,  7.3531e-01,\n",
       "          -1.9997e-01,  2.0258e-01,  5.6255e-01,  6.0675e-02,  6.0194e-01,\n",
       "           2.1135e-01, -7.0205e-01,  3.8862e-01, -3.0570e-01, -3.6754e-01,\n",
       "          -1.0212e-02,  3.1725e-01,  6.3664e-01, -3.0131e-01, -5.7345e-01,\n",
       "           6.3939e-01,  3.0638e-01,  1.5398e-03],\n",
       "         [-7.9609e-01,  9.6951e-01, -9.3662e-01, -1.4827e+00, -6.4319e-02,\n",
       "          -4.9790e-01,  6.6024e-01, -5.3501e-01,  3.0434e-01,  4.0744e-01,\n",
       "           3.5170e-01,  5.7270e-01,  9.8763e-01,  2.8726e-02,  2.6503e-01,\n",
       "           4.6812e-03,  1.2656e-01,  2.5292e-01,  3.9276e-01,  9.2162e-01,\n",
       "           2.0191e+00, -5.3127e-01,  9.6564e-01,  2.5001e-01, -2.8227e-01,\n",
       "           4.4482e-01,  7.2226e-01,  1.4054e-01],\n",
       "         [-2.5505e-01,  7.9920e-01, -9.1432e-01, -5.7400e-01, -3.6369e-01,\n",
       "          -2.0948e-02,  7.2371e-01, -2.9262e-01,  5.4502e-01,  8.7952e-01,\n",
       "          -4.9397e-01,  3.9448e-01,  8.5429e-01, -7.5244e-02, -3.4753e-01,\n",
       "          -5.7067e-01, -3.9972e-01, -6.3036e-02,  1.6082e-01,  1.0417e+00,\n",
       "           8.0358e-01,  1.5581e-01,  5.8254e-02,  3.9905e-01, -2.1384e-01,\n",
       "           7.4661e-01, -5.1320e-01,  3.5180e-01],\n",
       "         [-1.9316e-01,  6.3781e-01, -1.2328e-01, -1.1715e-01, -6.5257e-01,\n",
       "          -8.7745e-01,  4.3768e-01, -7.6524e-01, -1.3241e-01,  2.1697e-01,\n",
       "          -2.6678e-01,  1.5132e-01,  5.0302e-01, -3.2761e-01, -8.3011e-02,\n",
       "          -9.1113e-01, -1.8369e-01, -1.4006e-01,  1.5750e-01,  4.0136e-01,\n",
       "           3.7450e-01,  1.9931e-01,  3.9873e-01,  5.2541e-01, -4.4498e-01,\n",
       "           3.6830e-01,  4.3402e-01,  4.2787e-01],\n",
       "         [-4.0540e-01,  6.3199e-01, -8.7138e-01, -7.4243e-01, -3.0788e-01,\n",
       "           6.3800e-01,  9.7601e-02, -5.5229e-01,  5.0005e-01,  8.4651e-01,\n",
       "          -5.0040e-02,  7.6659e-01,  4.2436e-01, -7.7105e-01, -1.8605e-03,\n",
       "          -4.6277e-01,  6.2336e-01, -5.5669e-02,  4.2972e-01,  4.7940e-01,\n",
       "           1.9369e+00, -2.9397e-01,  2.8798e-01,  7.6514e-01,  1.0260e-01,\n",
       "           3.1853e-01,  5.0631e-01,  1.1126e-01],\n",
       "         [-1.6908e-01,  3.2350e-01,  2.4940e-01, -4.0062e-01,  6.0993e-01,\n",
       "           3.1797e-01, -1.8362e-01, -4.8139e-01, -1.2637e+00, -5.9131e-01,\n",
       "           2.7999e-01, -5.4755e-02,  8.4518e-02,  1.2144e-01, -3.4936e-03,\n",
       "          -3.2784e-03,  7.0034e-01, -1.0339e-02,  9.7556e-01,  1.1896e+00,\n",
       "           1.8621e+00, -9.8494e-01,  2.1375e-01,  2.4379e-01, -1.2180e-01,\n",
       "          -4.9810e-01,  5.7728e-01, -6.2714e-02],\n",
       "         [-1.8396e-01,  5.4381e-01,  4.0284e-01, -3.8733e-01,  5.8323e-01,\n",
       "          -7.6575e-01,  2.6464e-01, -6.1463e-02, -9.3793e-01, -3.2709e-01,\n",
       "           1.1640e+00,  3.6474e-01,  3.1605e-01,  6.0249e-01,  2.3442e-02,\n",
       "           6.1521e-01,  2.6339e-01,  5.1492e-01,  3.4245e-01,  3.4258e-01,\n",
       "           1.6526e+00, -4.8661e-01,  3.4660e-01, -7.2363e-01, -8.4721e-01,\n",
       "          -1.0209e-01,  7.9841e-01,  3.7140e-01],\n",
       "         [-1.7546e-02,  1.1785e-01,  3.8193e-01, -5.1793e-01,  5.6493e-01,\n",
       "          -3.0227e-01,  1.1487e-01, -3.9445e-02, -8.7267e-01, -4.5422e-01,\n",
       "           8.9532e-01,  2.7329e-01, -3.9621e-01, -1.4855e-01,  2.8995e-02,\n",
       "           8.1923e-01,  6.0250e-01,  2.4042e-01,  8.9677e-01,  8.4248e-01,\n",
       "           1.6457e+00, -1.3214e+00,  6.7702e-01, -1.6106e-01, -2.9061e-01,\n",
       "           7.1115e-02,  8.9832e-01,  3.2032e-01],\n",
       "         [ 9.6402e-02, -6.1482e-01,  1.3907e-01,  3.3020e-02,  7.8606e-01,\n",
       "          -2.4260e-01, -8.5960e-03,  7.3912e-02, -9.3885e-01, -1.1129e+00,\n",
       "           3.1420e-01,  3.6184e-02, -1.3217e+00, -6.4029e-01, -5.0432e-01,\n",
       "           6.4301e-01,  4.0273e-01, -2.1817e-01,  5.6222e-01,  2.2655e-01,\n",
       "           6.8329e-01, -1.1736e+00,  4.8246e-02, -3.9487e-01,  1.8544e-01,\n",
       "          -1.4028e-01,  8.7679e-01,  7.9165e-01],\n",
       "         [-3.6447e-01, -8.5687e-01, -5.1526e-01,  1.0499e-01,  5.3587e-01,\n",
       "          -2.9015e-01, -7.4264e-02, -4.7100e-01, -6.5146e-01, -9.8423e-01,\n",
       "          -2.1876e-01, -4.9016e-02, -1.3134e+00, -7.8435e-01, -4.1886e-01,\n",
       "          -6.4251e-01,  4.7440e-01, -6.5543e-01,  4.5333e-01,  4.2076e-01,\n",
       "           7.0220e-01, -8.6409e-01, -3.3897e-02,  1.6521e-01,  5.8003e-02,\n",
       "          -3.0902e-01,  5.3885e-01,  2.6019e-03],\n",
       "         [-2.9051e-01, -7.1802e-01, -6.7915e-01,  2.8642e-01,  2.8275e-01,\n",
       "          -5.8523e-02, -1.0664e-02, -2.8777e-01, -2.8215e-01, -6.2423e-01,\n",
       "          -6.6622e-01,  1.6844e-01, -1.0706e+00, -9.7598e-01, -5.5892e-01,\n",
       "          -6.6647e-01,  2.9439e-01, -7.8125e-01,  3.8848e-01, -2.7452e-01,\n",
       "          -3.4050e-01, -3.4722e-01, -6.0944e-01, -1.2199e-01,  1.0610e-01,\n",
       "          -3.0681e-01,  1.3392e-01, -4.0938e-02],\n",
       "         [-4.3989e-01, -1.3577e+00, -6.1827e-02,  4.0264e-01, -1.8970e-01,\n",
       "          -4.5914e-01,  9.2809e-02, -4.4322e-01, -1.0475e+00,  6.1950e-02,\n",
       "          -7.3625e-01, -3.7189e-01, -1.2853e+00, -4.3438e-01, -1.2559e+00,\n",
       "          -8.2994e-01,  8.1279e-02, -9.1597e-01,  6.9733e-01, -1.4846e-01,\n",
       "          -3.2609e-01, -5.9711e-01, -1.1880e+00,  4.7194e-02,  7.9408e-04,\n",
       "          -2.5090e-01, -8.8100e-01, -2.1692e-01],\n",
       "         [-7.9312e-01, -3.4456e-01,  2.9623e-02, -8.5724e-01, -2.1202e-01,\n",
       "          -1.2035e+00, -1.5334e-01, -6.1672e-01, -1.4835e+00, -4.8410e-01,\n",
       "          -4.0906e-01, -5.5492e-01, -4.2762e-01,  2.2271e-01, -4.1334e-01,\n",
       "          -4.8026e-01, -3.7424e-01, -5.3381e-01,  4.3844e-01,  4.3325e-01,\n",
       "           3.8946e-01, -1.0945e+00, -1.4891e-01, -3.8880e-01, -3.9160e-01,\n",
       "          -3.2024e-01, -5.0774e-01, -4.4023e-01],\n",
       "         [-7.2329e-01, -2.7154e-01,  4.3444e-02, -1.0923e+00,  3.4101e-01,\n",
       "          -1.2768e+00, -1.1352e-01, -5.6255e-01, -1.4349e+00, -7.6738e-01,\n",
       "          -6.1543e-02, -6.4411e-01, -8.5614e-01,  2.5725e-01, -3.9329e-01,\n",
       "          -5.5686e-04, -4.2665e-01,  3.6250e-02,  2.6831e-01,  4.1776e-02,\n",
       "           8.1873e-01, -1.1124e+00,  3.9487e-01, -1.0742e+00, -5.6140e-01,\n",
       "          -3.8253e-01, -2.2881e-02, -3.3325e-01],\n",
       "         [-6.6030e-01, -5.8497e-01, -2.7028e-01, -9.5299e-01, -6.6350e-01,\n",
       "          -8.4329e-01, -3.4306e-02, -5.7534e-01, -2.5962e-01, -6.6281e-01,\n",
       "          -8.7491e-01, -1.1017e+00, -1.8683e-01, -8.3592e-01, -1.1559e+00,\n",
       "          -4.7618e-01, -1.0133e+00, -7.0145e-01, -1.0630e+00, -8.4559e-01,\n",
       "          -8.5860e-01, -7.6230e-01, -6.3462e-01, -1.0002e+00, -8.7905e-01,\n",
       "          -4.9207e-01, -4.4155e-01, -4.4301e-01],\n",
       "         [-8.0096e-01, -1.5098e-01, -2.7857e-01, -1.4805e+00, -5.2114e-01,\n",
       "          -1.3650e+00, -4.4025e-01, -1.1316e+00, -1.2421e+00, -6.4948e-01,\n",
       "          -6.4206e-03, -9.8095e-01, -7.5855e-02,  5.7837e-02, -5.3093e-01,\n",
       "          -3.8638e-01, -5.0443e-01, -6.6336e-01, -4.7450e-01,  2.1686e-02,\n",
       "           7.0617e-01, -9.5815e-01, -6.8774e-02, -9.0453e-01, -6.5030e-01,\n",
       "          -6.6033e-01, -6.7318e-01, -5.2265e-01],\n",
       "         [-5.4586e-01, -6.2316e-01,  5.1201e-02, -1.0178e+00,  4.0566e-02,\n",
       "          -8.6160e-01, -1.4631e-01, -3.3849e-01, -1.1767e+00, -9.8046e-01,\n",
       "           1.5577e-01, -1.1942e+00, -8.0781e-01, -3.5166e-01,  2.8730e-01,\n",
       "           1.2520e-01, -6.2689e-01, -5.1698e-01, -7.1738e-01, -1.8980e-01,\n",
       "           2.8776e-01, -1.3324e+00,  3.3664e-02, -4.3342e-01, -4.7358e-01,\n",
       "          -9.8827e-01, -2.8296e-01, -6.9308e-01],\n",
       "         [-2.5270e-01, -4.7488e-01,  2.5129e-01, -3.2082e-01,  5.6684e-01,\n",
       "          -8.0599e-01,  1.4064e-01, -4.5098e-01, -1.1336e+00, -1.1197e+00,\n",
       "           1.5371e-01, -1.7336e+00, -9.1174e-01,  8.0681e-02,  3.7804e-01,\n",
       "           4.6013e-01, -1.3064e+00, -3.9276e-01, -1.3389e+00, -9.0067e-01,\n",
       "          -1.2008e+00, -3.2517e-01, -1.5592e-01, -9.4418e-01, -8.5996e-01,\n",
       "          -1.0503e+00, -7.9198e-01, -6.0710e-01],\n",
       "         [-6.1670e-01, -5.4136e-01, -1.0447e-01, -5.2692e-02, -2.6466e-01,\n",
       "          -1.1580e+00,  2.4634e-02, -3.6674e-01, -8.1889e-01, -1.2772e+00,\n",
       "           3.3784e-01, -1.6311e+00, -6.7470e-01,  1.2198e-01,  2.8000e-01,\n",
       "           5.0522e-01, -1.4850e+00, -3.4541e-01, -1.3468e+00, -1.2705e+00,\n",
       "          -1.1073e+00,  1.7615e-01, -2.2406e-01, -1.5247e+00, -1.2371e+00,\n",
       "          -9.1820e-01, -3.2683e-01, -6.5523e-01],\n",
       "         [-4.4125e-01, -6.3827e-01, -2.4641e-01, -4.8661e-02, -5.2502e-03,\n",
       "          -1.2700e+00, -3.6227e-01, -6.3744e-01, -6.2416e-01, -1.2368e+00,\n",
       "          -4.6452e-02, -1.4128e+00, -3.7779e-01,  2.8593e-01, -9.3078e-02,\n",
       "           3.9944e-01, -1.5096e+00, -7.3056e-01, -1.1179e+00, -1.9740e+00,\n",
       "          -1.9528e+00,  3.4377e-01, -6.1967e-01, -1.9778e+00, -1.0156e+00,\n",
       "          -5.3769e-01, -4.1310e-01, -7.2750e-01]]], grad_fn=<AddBackward0>)"
      ]
     },
     "execution_count": 44,
     "metadata": {},
     "output_type": "execute_result"
    }
   ],
   "source": [
    "sample1 = train_dataset[0]\n",
    "image_tensor1, label1 = sample1\n",
    "\n",
    "sample2 = train_dataset[0]\n",
    "image_tensor2, label2 = sample2\n",
    "\n",
    "test_encoder = EncoderBlock().to(device)\n",
    "test_encoder(image_tensor1)"
   ]
  },
  {
   "cell_type": "markdown",
   "metadata": {},
   "source": [
    "Implement ViT"
   ]
  },
  {
   "cell_type": "code",
   "execution_count": 45,
   "metadata": {},
   "outputs": [],
   "source": [
    "class ViT(nn.Module):\n",
    "    def __init__(self, num_encoders=num_encoders, latent_size=latent_size, device=device, num_classes=num_classes, dropout=dropout):\n",
    "        super(ViT, self).__init__()\n",
    "\n",
    "        self.num_encoders = num_encoders\n",
    "        self.latent_size = latent_size\n",
    "        self.device = device\n",
    "        self.num_classes = num_classes\n",
    "        self.dropout = dropout\n",
    "\n",
    "        self.embedding = InputEmbedding()\n",
    "\n",
    "        #Create Stack of Encoders\n",
    "        self.encStack = nn.ModuleList(EncoderBlock() for i in range(self.num_encoders))\n",
    "\n",
    "        self.MLP_head = nn.Sequential(\n",
    "            nn.LayerNorm(self.latent_size),\n",
    "            nn.Linear(self.latent_size, self.latent_size),\n",
    "            nn.Linear(self.latent_size, self.num_classes)\n",
    "        )\n",
    "\n",
    "    def forward(self, test_input):\n",
    "        enc_output = self.embedding(test_input)\n",
    "\n",
    "        for enc_layer in self.encStack:\n",
    "            enc_output = enc_layer(enc_output)\n",
    "\n",
    "        cls_token_embed = enc_output[:, 0]\n",
    "\n",
    "        return self.MLP_head(cls_token_embed)"
   ]
  },
  {
   "cell_type": "code",
   "execution_count": 46,
   "metadata": {},
   "outputs": [],
   "source": [
    "model = ViT().to(device)"
   ]
  },
  {
   "cell_type": "markdown",
   "metadata": {},
   "source": [
    "Test ViT"
   ]
  },
  {
   "cell_type": "code",
   "execution_count": 47,
   "metadata": {},
   "outputs": [
    {
     "name": "stdout",
     "output_type": "stream",
     "text": [
      "torch.Size([1, 28, 28])\n"
     ]
    },
    {
     "ename": "RuntimeError",
     "evalue": "Sizes of tensors must match except in dimension 1. Expected size 1 but got size 2 for tensor number 1 in the list.",
     "output_type": "error",
     "traceback": [
      "\u001b[0;31m---------------------------------------------------------------------------\u001b[0m",
      "\u001b[0;31mRuntimeError\u001b[0m                              Traceback (most recent call last)",
      "Cell \u001b[0;32mIn[47], line 6\u001b[0m\n\u001b[1;32m      3\u001b[0m image_tensor2_vit \u001b[38;5;241m=\u001b[39m image_tensor2\u001b[38;5;241m.\u001b[39munsqueeze(\u001b[38;5;241m0\u001b[39m)\n\u001b[1;32m      4\u001b[0m image_tensor \u001b[38;5;241m=\u001b[39m torch\u001b[38;5;241m.\u001b[39mcat((image_tensor1_vit, image_tensor2_vit), dim \u001b[38;5;241m=\u001b[39m \u001b[38;5;241m0\u001b[39m)\n\u001b[0;32m----> 6\u001b[0m vit_output \u001b[38;5;241m=\u001b[39m \u001b[43mmodel\u001b[49m\u001b[43m(\u001b[49m\u001b[43mimage_tensor\u001b[49m\u001b[43m)\u001b[49m\n\u001b[1;32m      8\u001b[0m \u001b[38;5;28mprint\u001b[39m(vit_output)\n\u001b[1;32m      9\u001b[0m \u001b[38;5;28mprint\u001b[39m(vit_output\u001b[38;5;241m.\u001b[39msize())\n",
      "File \u001b[0;32m~/.local/lib/python3.10/site-packages/torch/nn/modules/module.py:1739\u001b[0m, in \u001b[0;36mModule._wrapped_call_impl\u001b[0;34m(self, *args, **kwargs)\u001b[0m\n\u001b[1;32m   1737\u001b[0m     \u001b[38;5;28;01mreturn\u001b[39;00m \u001b[38;5;28mself\u001b[39m\u001b[38;5;241m.\u001b[39m_compiled_call_impl(\u001b[38;5;241m*\u001b[39margs, \u001b[38;5;241m*\u001b[39m\u001b[38;5;241m*\u001b[39mkwargs)  \u001b[38;5;66;03m# type: ignore[misc]\u001b[39;00m\n\u001b[1;32m   1738\u001b[0m \u001b[38;5;28;01melse\u001b[39;00m:\n\u001b[0;32m-> 1739\u001b[0m     \u001b[38;5;28;01mreturn\u001b[39;00m \u001b[38;5;28;43mself\u001b[39;49m\u001b[38;5;241;43m.\u001b[39;49m\u001b[43m_call_impl\u001b[49m\u001b[43m(\u001b[49m\u001b[38;5;241;43m*\u001b[39;49m\u001b[43margs\u001b[49m\u001b[43m,\u001b[49m\u001b[43m \u001b[49m\u001b[38;5;241;43m*\u001b[39;49m\u001b[38;5;241;43m*\u001b[39;49m\u001b[43mkwargs\u001b[49m\u001b[43m)\u001b[49m\n",
      "File \u001b[0;32m~/.local/lib/python3.10/site-packages/torch/nn/modules/module.py:1750\u001b[0m, in \u001b[0;36mModule._call_impl\u001b[0;34m(self, *args, **kwargs)\u001b[0m\n\u001b[1;32m   1745\u001b[0m \u001b[38;5;66;03m# If we don't have any hooks, we want to skip the rest of the logic in\u001b[39;00m\n\u001b[1;32m   1746\u001b[0m \u001b[38;5;66;03m# this function, and just call forward.\u001b[39;00m\n\u001b[1;32m   1747\u001b[0m \u001b[38;5;28;01mif\u001b[39;00m \u001b[38;5;129;01mnot\u001b[39;00m (\u001b[38;5;28mself\u001b[39m\u001b[38;5;241m.\u001b[39m_backward_hooks \u001b[38;5;129;01mor\u001b[39;00m \u001b[38;5;28mself\u001b[39m\u001b[38;5;241m.\u001b[39m_backward_pre_hooks \u001b[38;5;129;01mor\u001b[39;00m \u001b[38;5;28mself\u001b[39m\u001b[38;5;241m.\u001b[39m_forward_hooks \u001b[38;5;129;01mor\u001b[39;00m \u001b[38;5;28mself\u001b[39m\u001b[38;5;241m.\u001b[39m_forward_pre_hooks\n\u001b[1;32m   1748\u001b[0m         \u001b[38;5;129;01mor\u001b[39;00m _global_backward_pre_hooks \u001b[38;5;129;01mor\u001b[39;00m _global_backward_hooks\n\u001b[1;32m   1749\u001b[0m         \u001b[38;5;129;01mor\u001b[39;00m _global_forward_hooks \u001b[38;5;129;01mor\u001b[39;00m _global_forward_pre_hooks):\n\u001b[0;32m-> 1750\u001b[0m     \u001b[38;5;28;01mreturn\u001b[39;00m \u001b[43mforward_call\u001b[49m\u001b[43m(\u001b[49m\u001b[38;5;241;43m*\u001b[39;49m\u001b[43margs\u001b[49m\u001b[43m,\u001b[49m\u001b[43m \u001b[49m\u001b[38;5;241;43m*\u001b[39;49m\u001b[38;5;241;43m*\u001b[39;49m\u001b[43mkwargs\u001b[49m\u001b[43m)\u001b[49m\n\u001b[1;32m   1752\u001b[0m result \u001b[38;5;241m=\u001b[39m \u001b[38;5;28;01mNone\u001b[39;00m\n\u001b[1;32m   1753\u001b[0m called_always_called_hooks \u001b[38;5;241m=\u001b[39m \u001b[38;5;28mset\u001b[39m()\n",
      "Cell \u001b[0;32mIn[45], line 23\u001b[0m, in \u001b[0;36mViT.forward\u001b[0;34m(self, test_input)\u001b[0m\n\u001b[1;32m     22\u001b[0m \u001b[38;5;28;01mdef\u001b[39;00m\u001b[38;5;250m \u001b[39m\u001b[38;5;21mforward\u001b[39m(\u001b[38;5;28mself\u001b[39m, test_input):\n\u001b[0;32m---> 23\u001b[0m     enc_output \u001b[38;5;241m=\u001b[39m \u001b[38;5;28;43mself\u001b[39;49m\u001b[38;5;241;43m.\u001b[39;49m\u001b[43membedding\u001b[49m\u001b[43m(\u001b[49m\u001b[43mtest_input\u001b[49m\u001b[43m)\u001b[49m\n\u001b[1;32m     25\u001b[0m     \u001b[38;5;28;01mfor\u001b[39;00m enc_layer \u001b[38;5;129;01min\u001b[39;00m \u001b[38;5;28mself\u001b[39m\u001b[38;5;241m.\u001b[39mencStack:\n\u001b[1;32m     26\u001b[0m         enc_output \u001b[38;5;241m=\u001b[39m enc_layer(enc_output)\n",
      "File \u001b[0;32m~/.local/lib/python3.10/site-packages/torch/nn/modules/module.py:1739\u001b[0m, in \u001b[0;36mModule._wrapped_call_impl\u001b[0;34m(self, *args, **kwargs)\u001b[0m\n\u001b[1;32m   1737\u001b[0m     \u001b[38;5;28;01mreturn\u001b[39;00m \u001b[38;5;28mself\u001b[39m\u001b[38;5;241m.\u001b[39m_compiled_call_impl(\u001b[38;5;241m*\u001b[39margs, \u001b[38;5;241m*\u001b[39m\u001b[38;5;241m*\u001b[39mkwargs)  \u001b[38;5;66;03m# type: ignore[misc]\u001b[39;00m\n\u001b[1;32m   1738\u001b[0m \u001b[38;5;28;01melse\u001b[39;00m:\n\u001b[0;32m-> 1739\u001b[0m     \u001b[38;5;28;01mreturn\u001b[39;00m \u001b[38;5;28;43mself\u001b[39;49m\u001b[38;5;241;43m.\u001b[39;49m\u001b[43m_call_impl\u001b[49m\u001b[43m(\u001b[49m\u001b[38;5;241;43m*\u001b[39;49m\u001b[43margs\u001b[49m\u001b[43m,\u001b[49m\u001b[43m \u001b[49m\u001b[38;5;241;43m*\u001b[39;49m\u001b[38;5;241;43m*\u001b[39;49m\u001b[43mkwargs\u001b[49m\u001b[43m)\u001b[49m\n",
      "File \u001b[0;32m~/.local/lib/python3.10/site-packages/torch/nn/modules/module.py:1750\u001b[0m, in \u001b[0;36mModule._call_impl\u001b[0;34m(self, *args, **kwargs)\u001b[0m\n\u001b[1;32m   1745\u001b[0m \u001b[38;5;66;03m# If we don't have any hooks, we want to skip the rest of the logic in\u001b[39;00m\n\u001b[1;32m   1746\u001b[0m \u001b[38;5;66;03m# this function, and just call forward.\u001b[39;00m\n\u001b[1;32m   1747\u001b[0m \u001b[38;5;28;01mif\u001b[39;00m \u001b[38;5;129;01mnot\u001b[39;00m (\u001b[38;5;28mself\u001b[39m\u001b[38;5;241m.\u001b[39m_backward_hooks \u001b[38;5;129;01mor\u001b[39;00m \u001b[38;5;28mself\u001b[39m\u001b[38;5;241m.\u001b[39m_backward_pre_hooks \u001b[38;5;129;01mor\u001b[39;00m \u001b[38;5;28mself\u001b[39m\u001b[38;5;241m.\u001b[39m_forward_hooks \u001b[38;5;129;01mor\u001b[39;00m \u001b[38;5;28mself\u001b[39m\u001b[38;5;241m.\u001b[39m_forward_pre_hooks\n\u001b[1;32m   1748\u001b[0m         \u001b[38;5;129;01mor\u001b[39;00m _global_backward_pre_hooks \u001b[38;5;129;01mor\u001b[39;00m _global_backward_hooks\n\u001b[1;32m   1749\u001b[0m         \u001b[38;5;129;01mor\u001b[39;00m _global_forward_hooks \u001b[38;5;129;01mor\u001b[39;00m _global_forward_pre_hooks):\n\u001b[0;32m-> 1750\u001b[0m     \u001b[38;5;28;01mreturn\u001b[39;00m \u001b[43mforward_call\u001b[49m\u001b[43m(\u001b[49m\u001b[38;5;241;43m*\u001b[39;49m\u001b[43margs\u001b[49m\u001b[43m,\u001b[49m\u001b[43m \u001b[49m\u001b[38;5;241;43m*\u001b[39;49m\u001b[38;5;241;43m*\u001b[39;49m\u001b[43mkwargs\u001b[49m\u001b[43m)\u001b[49m\n\u001b[1;32m   1752\u001b[0m result \u001b[38;5;241m=\u001b[39m \u001b[38;5;28;01mNone\u001b[39;00m\n\u001b[1;32m   1753\u001b[0m called_always_called_hooks \u001b[38;5;241m=\u001b[39m \u001b[38;5;28mset\u001b[39m()\n",
      "Cell \u001b[0;32mIn[42], line 34\u001b[0m, in \u001b[0;36mInputEmbedding.forward\u001b[0;34m(self, input_data)\u001b[0m\n\u001b[1;32m     31\u001b[0m linear_projection \u001b[38;5;241m=\u001b[39m \u001b[38;5;28mself\u001b[39m\u001b[38;5;241m.\u001b[39mlinearProjection(patches)\u001b[38;5;241m.\u001b[39mto(\u001b[38;5;28mself\u001b[39m\u001b[38;5;241m.\u001b[39mdevice)\n\u001b[1;32m     32\u001b[0m b, n, _ \u001b[38;5;241m=\u001b[39m linear_projection\u001b[38;5;241m.\u001b[39mshape\n\u001b[0;32m---> 34\u001b[0m linear_projection \u001b[38;5;241m=\u001b[39m \u001b[43mtorch\u001b[49m\u001b[38;5;241;43m.\u001b[39;49m\u001b[43mcat\u001b[49m\u001b[43m(\u001b[49m\u001b[43m(\u001b[49m\u001b[38;5;28;43mself\u001b[39;49m\u001b[38;5;241;43m.\u001b[39;49m\u001b[43mclass_token\u001b[49m\u001b[43m,\u001b[49m\u001b[43m \u001b[49m\u001b[43mlinear_projection\u001b[49m\u001b[43m)\u001b[49m\u001b[43m,\u001b[49m\u001b[43m \u001b[49m\u001b[43mdim\u001b[49m\u001b[43m \u001b[49m\u001b[38;5;241;43m=\u001b[39;49m\u001b[43m \u001b[49m\u001b[38;5;241;43m1\u001b[39;49m\u001b[43m)\u001b[49m \u001b[38;5;66;03m#entlang der 1. Dim hinzugefügt\u001b[39;00m\n\u001b[1;32m     35\u001b[0m pos_embed \u001b[38;5;241m=\u001b[39m einops\u001b[38;5;241m.\u001b[39mrepeat(\u001b[38;5;28mself\u001b[39m\u001b[38;5;241m.\u001b[39mpos_embedding, \u001b[38;5;124m\"\u001b[39m\u001b[38;5;124mb 1 d -> b m d\u001b[39m\u001b[38;5;124m\"\u001b[39m, m \u001b[38;5;241m=\u001b[39m n \u001b[38;5;241m+\u001b[39m \u001b[38;5;241m1\u001b[39m)\n\u001b[1;32m     37\u001b[0m \u001b[38;5;66;03m#print(linear_projection.size())\u001b[39;00m\n\u001b[1;32m     38\u001b[0m \u001b[38;5;66;03m#print(pos_embed.size())\u001b[39;00m\n",
      "\u001b[0;31mRuntimeError\u001b[0m: Sizes of tensors must match except in dimension 1. Expected size 1 but got size 2 for tensor number 1 in the list."
     ]
    }
   ],
   "source": [
    "print(image_tensor1.size())\n",
    "image_tensor1_vit = image_tensor1.unsqueeze(0)\n",
    "image_tensor2_vit = image_tensor2.unsqueeze(0)\n",
    "image_tensor = torch.cat((image_tensor1_vit, image_tensor2_vit), dim = 0)\n",
    "\n",
    "vit_output = model(image_tensor)\n",
    "\n",
    "print(vit_output)\n",
    "print(vit_output.size())"
   ]
  },
  {
   "cell_type": "markdown",
   "metadata": {},
   "source": [
    "Define the Loss Function"
   ]
  },
  {
   "cell_type": "code",
   "execution_count": null,
   "metadata": {},
   "outputs": [],
   "source": [
    "# define loss function and optimizer\n",
    "if task == \"multi-label, binary-class\":\n",
    "    criterion = nn.BCEWithLogitsLoss()\n",
    "else:\n",
    "    criterion = nn.CrossEntropyLoss()\n",
    "    \n",
    "optimizer = optim.SGD(model.parameters(), lr=lr, momentum=0.9)"
   ]
  },
  {
   "cell_type": "markdown",
   "metadata": {},
   "source": [
    "Next, we start to train and evaluate!"
   ]
  },
  {
   "cell_type": "code",
   "execution_count": null,
   "metadata": {},
   "outputs": [
    {
     "name": "stderr",
     "output_type": "stream",
     "text": [
      "100%|██████████| 273/273 [00:03<00:00, 70.33it/s]\n",
      "100%|██████████| 273/273 [00:04<00:00, 63.48it/s]\n",
      "100%|██████████| 273/273 [00:04<00:00, 63.36it/s]\n"
     ]
    }
   ],
   "source": [
    "# train\n",
    "\n",
    "for epoch in range(NUM_EPOCHS):\n",
    "    train_correct = 0\n",
    "    train_total = 0\n",
    "    test_correct = 0\n",
    "    test_total = 0\n",
    "    \n",
    "    model.train()\n",
    "    for inputs, targets in tqdm(train_loader):\n",
    "        # forward + backward + optimize\n",
    "        optimizer.zero_grad()\n",
    "        outputs = model(inputs)\n",
    "        \n",
    "        if task == 'multi-label, binary-class':\n",
    "            targets = targets.to(torch.float32)\n",
    "            loss = criterion(outputs, targets)\n",
    "        else:\n",
    "           \n",
    "            targets = targets.squeeze(dim = 1).long()\n",
    "            loss = criterion(outputs, targets)\n",
    "        \n",
    "        loss.backward()\n",
    "        optimizer.step()"
   ]
  },
  {
   "cell_type": "code",
   "execution_count": null,
   "metadata": {},
   "outputs": [
    {
     "name": "stdout",
     "output_type": "stream",
     "text": [
      "==> Evaluating ...\n",
      "torch.Size([4, 1, 28, 28])\n"
     ]
    },
    {
     "ename": "RuntimeError",
     "evalue": "Sizes of tensors must match except in dimension 1. Expected size 2 but got size 4 for tensor number 1 in the list.",
     "output_type": "error",
     "traceback": [
      "\u001b[0;31m---------------------------------------------------------------------------\u001b[0m",
      "\u001b[0;31mRuntimeError\u001b[0m                              Traceback (most recent call last)",
      "Cell \u001b[0;32mIn[17], line 36\u001b[0m\n\u001b[1;32m     32\u001b[0m         \u001b[38;5;28mprint\u001b[39m(\u001b[38;5;124m'\u001b[39m\u001b[38;5;132;01m%s\u001b[39;00m\u001b[38;5;124m  auc: \u001b[39m\u001b[38;5;132;01m%.3f\u001b[39;00m\u001b[38;5;124m  acc:\u001b[39m\u001b[38;5;132;01m%.3f\u001b[39;00m\u001b[38;5;124m'\u001b[39m \u001b[38;5;241m%\u001b[39m (split, \u001b[38;5;241m*\u001b[39mmetrics))\n\u001b[1;32m     35\u001b[0m \u001b[38;5;28mprint\u001b[39m(\u001b[38;5;124m'\u001b[39m\u001b[38;5;124m==> Evaluating ...\u001b[39m\u001b[38;5;124m'\u001b[39m)\n\u001b[0;32m---> 36\u001b[0m \u001b[43mtest\u001b[49m\u001b[43m(\u001b[49m\u001b[38;5;124;43m'\u001b[39;49m\u001b[38;5;124;43mtrain\u001b[39;49m\u001b[38;5;124;43m'\u001b[39;49m\u001b[43m)\u001b[49m\n\u001b[1;32m     37\u001b[0m test(\u001b[38;5;124m'\u001b[39m\u001b[38;5;124mtest\u001b[39m\u001b[38;5;124m'\u001b[39m)\n",
      "Cell \u001b[0;32mIn[17], line 13\u001b[0m, in \u001b[0;36mtest\u001b[0;34m(split)\u001b[0m\n\u001b[1;32m     11\u001b[0m \u001b[38;5;28;01mfor\u001b[39;00m inputs, targets \u001b[38;5;129;01min\u001b[39;00m data_loader:\n\u001b[1;32m     12\u001b[0m     \u001b[38;5;28mprint\u001b[39m(inputs\u001b[38;5;241m.\u001b[39mshape)\n\u001b[0;32m---> 13\u001b[0m     outputs \u001b[38;5;241m=\u001b[39m \u001b[43mmodel\u001b[49m\u001b[43m(\u001b[49m\u001b[43minputs\u001b[49m\u001b[43m)\u001b[49m\n\u001b[1;32m     14\u001b[0m     \u001b[38;5;28mprint\u001b[39m(outputs\u001b[38;5;241m.\u001b[39mshape)\n\u001b[1;32m     15\u001b[0m     \u001b[38;5;28;01mif\u001b[39;00m task \u001b[38;5;241m==\u001b[39m \u001b[38;5;124m'\u001b[39m\u001b[38;5;124mmulti-label, binary-class\u001b[39m\u001b[38;5;124m'\u001b[39m:\n",
      "File \u001b[0;32m~/.local/lib/python3.10/site-packages/torch/nn/modules/module.py:1739\u001b[0m, in \u001b[0;36mModule._wrapped_call_impl\u001b[0;34m(self, *args, **kwargs)\u001b[0m\n\u001b[1;32m   1737\u001b[0m     \u001b[38;5;28;01mreturn\u001b[39;00m \u001b[38;5;28mself\u001b[39m\u001b[38;5;241m.\u001b[39m_compiled_call_impl(\u001b[38;5;241m*\u001b[39margs, \u001b[38;5;241m*\u001b[39m\u001b[38;5;241m*\u001b[39mkwargs)  \u001b[38;5;66;03m# type: ignore[misc]\u001b[39;00m\n\u001b[1;32m   1738\u001b[0m \u001b[38;5;28;01melse\u001b[39;00m:\n\u001b[0;32m-> 1739\u001b[0m     \u001b[38;5;28;01mreturn\u001b[39;00m \u001b[38;5;28;43mself\u001b[39;49m\u001b[38;5;241;43m.\u001b[39;49m\u001b[43m_call_impl\u001b[49m\u001b[43m(\u001b[49m\u001b[38;5;241;43m*\u001b[39;49m\u001b[43margs\u001b[49m\u001b[43m,\u001b[49m\u001b[43m \u001b[49m\u001b[38;5;241;43m*\u001b[39;49m\u001b[38;5;241;43m*\u001b[39;49m\u001b[43mkwargs\u001b[49m\u001b[43m)\u001b[49m\n",
      "File \u001b[0;32m~/.local/lib/python3.10/site-packages/torch/nn/modules/module.py:1750\u001b[0m, in \u001b[0;36mModule._call_impl\u001b[0;34m(self, *args, **kwargs)\u001b[0m\n\u001b[1;32m   1745\u001b[0m \u001b[38;5;66;03m# If we don't have any hooks, we want to skip the rest of the logic in\u001b[39;00m\n\u001b[1;32m   1746\u001b[0m \u001b[38;5;66;03m# this function, and just call forward.\u001b[39;00m\n\u001b[1;32m   1747\u001b[0m \u001b[38;5;28;01mif\u001b[39;00m \u001b[38;5;129;01mnot\u001b[39;00m (\u001b[38;5;28mself\u001b[39m\u001b[38;5;241m.\u001b[39m_backward_hooks \u001b[38;5;129;01mor\u001b[39;00m \u001b[38;5;28mself\u001b[39m\u001b[38;5;241m.\u001b[39m_backward_pre_hooks \u001b[38;5;129;01mor\u001b[39;00m \u001b[38;5;28mself\u001b[39m\u001b[38;5;241m.\u001b[39m_forward_hooks \u001b[38;5;129;01mor\u001b[39;00m \u001b[38;5;28mself\u001b[39m\u001b[38;5;241m.\u001b[39m_forward_pre_hooks\n\u001b[1;32m   1748\u001b[0m         \u001b[38;5;129;01mor\u001b[39;00m _global_backward_pre_hooks \u001b[38;5;129;01mor\u001b[39;00m _global_backward_hooks\n\u001b[1;32m   1749\u001b[0m         \u001b[38;5;129;01mor\u001b[39;00m _global_forward_hooks \u001b[38;5;129;01mor\u001b[39;00m _global_forward_pre_hooks):\n\u001b[0;32m-> 1750\u001b[0m     \u001b[38;5;28;01mreturn\u001b[39;00m \u001b[43mforward_call\u001b[49m\u001b[43m(\u001b[49m\u001b[38;5;241;43m*\u001b[39;49m\u001b[43margs\u001b[49m\u001b[43m,\u001b[49m\u001b[43m \u001b[49m\u001b[38;5;241;43m*\u001b[39;49m\u001b[38;5;241;43m*\u001b[39;49m\u001b[43mkwargs\u001b[49m\u001b[43m)\u001b[49m\n\u001b[1;32m   1752\u001b[0m result \u001b[38;5;241m=\u001b[39m \u001b[38;5;28;01mNone\u001b[39;00m\n\u001b[1;32m   1753\u001b[0m called_always_called_hooks \u001b[38;5;241m=\u001b[39m \u001b[38;5;28mset\u001b[39m()\n",
      "Cell \u001b[0;32mIn[12], line 23\u001b[0m, in \u001b[0;36mViT.forward\u001b[0;34m(self, test_input)\u001b[0m\n\u001b[1;32m     22\u001b[0m \u001b[38;5;28;01mdef\u001b[39;00m\u001b[38;5;250m \u001b[39m\u001b[38;5;21mforward\u001b[39m(\u001b[38;5;28mself\u001b[39m, test_input):\n\u001b[0;32m---> 23\u001b[0m     enc_output \u001b[38;5;241m=\u001b[39m \u001b[38;5;28;43mself\u001b[39;49m\u001b[38;5;241;43m.\u001b[39;49m\u001b[43membedding\u001b[49m\u001b[43m(\u001b[49m\u001b[43mtest_input\u001b[49m\u001b[43m)\u001b[49m\n\u001b[1;32m     25\u001b[0m     \u001b[38;5;28;01mfor\u001b[39;00m enc_layer \u001b[38;5;129;01min\u001b[39;00m \u001b[38;5;28mself\u001b[39m\u001b[38;5;241m.\u001b[39mencStack:\n\u001b[1;32m     26\u001b[0m         enc_output \u001b[38;5;241m=\u001b[39m enc_layer(enc_output)\n",
      "File \u001b[0;32m~/.local/lib/python3.10/site-packages/torch/nn/modules/module.py:1739\u001b[0m, in \u001b[0;36mModule._wrapped_call_impl\u001b[0;34m(self, *args, **kwargs)\u001b[0m\n\u001b[1;32m   1737\u001b[0m     \u001b[38;5;28;01mreturn\u001b[39;00m \u001b[38;5;28mself\u001b[39m\u001b[38;5;241m.\u001b[39m_compiled_call_impl(\u001b[38;5;241m*\u001b[39margs, \u001b[38;5;241m*\u001b[39m\u001b[38;5;241m*\u001b[39mkwargs)  \u001b[38;5;66;03m# type: ignore[misc]\u001b[39;00m\n\u001b[1;32m   1738\u001b[0m \u001b[38;5;28;01melse\u001b[39;00m:\n\u001b[0;32m-> 1739\u001b[0m     \u001b[38;5;28;01mreturn\u001b[39;00m \u001b[38;5;28;43mself\u001b[39;49m\u001b[38;5;241;43m.\u001b[39;49m\u001b[43m_call_impl\u001b[49m\u001b[43m(\u001b[49m\u001b[38;5;241;43m*\u001b[39;49m\u001b[43margs\u001b[49m\u001b[43m,\u001b[49m\u001b[43m \u001b[49m\u001b[38;5;241;43m*\u001b[39;49m\u001b[38;5;241;43m*\u001b[39;49m\u001b[43mkwargs\u001b[49m\u001b[43m)\u001b[49m\n",
      "File \u001b[0;32m~/.local/lib/python3.10/site-packages/torch/nn/modules/module.py:1750\u001b[0m, in \u001b[0;36mModule._call_impl\u001b[0;34m(self, *args, **kwargs)\u001b[0m\n\u001b[1;32m   1745\u001b[0m \u001b[38;5;66;03m# If we don't have any hooks, we want to skip the rest of the logic in\u001b[39;00m\n\u001b[1;32m   1746\u001b[0m \u001b[38;5;66;03m# this function, and just call forward.\u001b[39;00m\n\u001b[1;32m   1747\u001b[0m \u001b[38;5;28;01mif\u001b[39;00m \u001b[38;5;129;01mnot\u001b[39;00m (\u001b[38;5;28mself\u001b[39m\u001b[38;5;241m.\u001b[39m_backward_hooks \u001b[38;5;129;01mor\u001b[39;00m \u001b[38;5;28mself\u001b[39m\u001b[38;5;241m.\u001b[39m_backward_pre_hooks \u001b[38;5;129;01mor\u001b[39;00m \u001b[38;5;28mself\u001b[39m\u001b[38;5;241m.\u001b[39m_forward_hooks \u001b[38;5;129;01mor\u001b[39;00m \u001b[38;5;28mself\u001b[39m\u001b[38;5;241m.\u001b[39m_forward_pre_hooks\n\u001b[1;32m   1748\u001b[0m         \u001b[38;5;129;01mor\u001b[39;00m _global_backward_pre_hooks \u001b[38;5;129;01mor\u001b[39;00m _global_backward_hooks\n\u001b[1;32m   1749\u001b[0m         \u001b[38;5;129;01mor\u001b[39;00m _global_forward_hooks \u001b[38;5;129;01mor\u001b[39;00m _global_forward_pre_hooks):\n\u001b[0;32m-> 1750\u001b[0m     \u001b[38;5;28;01mreturn\u001b[39;00m \u001b[43mforward_call\u001b[49m\u001b[43m(\u001b[49m\u001b[38;5;241;43m*\u001b[39;49m\u001b[43margs\u001b[49m\u001b[43m,\u001b[49m\u001b[43m \u001b[49m\u001b[38;5;241;43m*\u001b[39;49m\u001b[38;5;241;43m*\u001b[39;49m\u001b[43mkwargs\u001b[49m\u001b[43m)\u001b[49m\n\u001b[1;32m   1752\u001b[0m result \u001b[38;5;241m=\u001b[39m \u001b[38;5;28;01mNone\u001b[39;00m\n\u001b[1;32m   1753\u001b[0m called_always_called_hooks \u001b[38;5;241m=\u001b[39m \u001b[38;5;28mset\u001b[39m()\n",
      "Cell \u001b[0;32mIn[9], line 34\u001b[0m, in \u001b[0;36mInputEmbedding.forward\u001b[0;34m(self, input_data)\u001b[0m\n\u001b[1;32m     31\u001b[0m linear_projection \u001b[38;5;241m=\u001b[39m \u001b[38;5;28mself\u001b[39m\u001b[38;5;241m.\u001b[39mlinearProjection(patches)\u001b[38;5;241m.\u001b[39mto(\u001b[38;5;28mself\u001b[39m\u001b[38;5;241m.\u001b[39mdevice)\n\u001b[1;32m     32\u001b[0m b, n, _ \u001b[38;5;241m=\u001b[39m linear_projection\u001b[38;5;241m.\u001b[39mshape\n\u001b[0;32m---> 34\u001b[0m linear_projection \u001b[38;5;241m=\u001b[39m \u001b[43mtorch\u001b[49m\u001b[38;5;241;43m.\u001b[39;49m\u001b[43mcat\u001b[49m\u001b[43m(\u001b[49m\u001b[43m(\u001b[49m\u001b[38;5;28;43mself\u001b[39;49m\u001b[38;5;241;43m.\u001b[39;49m\u001b[43mclass_token\u001b[49m\u001b[43m,\u001b[49m\u001b[43m \u001b[49m\u001b[43mlinear_projection\u001b[49m\u001b[43m)\u001b[49m\u001b[43m,\u001b[49m\u001b[43m \u001b[49m\u001b[43mdim\u001b[49m\u001b[43m \u001b[49m\u001b[38;5;241;43m=\u001b[39;49m\u001b[43m \u001b[49m\u001b[38;5;241;43m1\u001b[39;49m\u001b[43m)\u001b[49m \u001b[38;5;66;03m#entlang der 1. Dim hinzugefügt\u001b[39;00m\n\u001b[1;32m     35\u001b[0m pos_embed \u001b[38;5;241m=\u001b[39m einops\u001b[38;5;241m.\u001b[39mrepeat(\u001b[38;5;28mself\u001b[39m\u001b[38;5;241m.\u001b[39mpos_embedding, \u001b[38;5;124m\"\u001b[39m\u001b[38;5;124mb 1 d -> b m d\u001b[39m\u001b[38;5;124m\"\u001b[39m, m \u001b[38;5;241m=\u001b[39m n \u001b[38;5;241m+\u001b[39m \u001b[38;5;241m1\u001b[39m)\n\u001b[1;32m     37\u001b[0m \u001b[38;5;66;03m#print(linear_projection.size())\u001b[39;00m\n\u001b[1;32m     38\u001b[0m \u001b[38;5;66;03m#print(pos_embed.size())\u001b[39;00m\n",
      "\u001b[0;31mRuntimeError\u001b[0m: Sizes of tensors must match except in dimension 1. Expected size 2 but got size 4 for tensor number 1 in the list."
     ]
    }
   ],
   "source": [
    "# evaluation\n",
    "\n",
    "def test(split):\n",
    "    model.eval()\n",
    "    y_true = torch.tensor([])\n",
    "    y_score = torch.tensor([])\n",
    "    \n",
    "    data_loader = train_loader_at_eval if split == 'train' else test_loader\n",
    "\n",
    "    with torch.no_grad():\n",
    "        for inputs, targets in data_loader:\n",
    "            print(inputs.shape)\n",
    "            outputs = model(inputs)\n",
    "            print(outputs.shape)\n",
    "            if task == 'multi-label, binary-class':\n",
    "                targets = targets.to(torch.float32)\n",
    "                outputs = outputs.softmax(dim=-1)\n",
    "            else:\n",
    "                targets = targets.squeeze().long()\n",
    "                outputs = outputs.softmax(dim=-1)\n",
    "                targets = targets.float().resize_(len(targets), 1)\n",
    "\n",
    "            y_true = torch.cat((y_true, targets), 0)\n",
    "            y_score = torch.cat((y_score, outputs), 0)\n",
    "\n",
    "        y_true = y_true.numpy()\n",
    "        y_score = y_score.detach().numpy()\n",
    "        \n",
    "        evaluator = Evaluator(data_flag, split)\n",
    "        metrics = evaluator.evaluate(y_score)\n",
    "    \n",
    "        print('%s  auc: %.3f  acc:%.3f' % (split, *metrics))\n",
    "\n",
    "        \n",
    "print('==> Evaluating ...')\n",
    "test('train')\n",
    "test('test')"
   ]
  }
 ],
 "metadata": {
  "kernelspec": {
   "display_name": "Python 3",
   "language": "python",
   "name": "python3"
  },
  "language_info": {
   "codemirror_mode": {
    "name": "ipython",
    "version": 3
   },
   "file_extension": ".py",
   "mimetype": "text/x-python",
   "name": "python",
   "nbconvert_exporter": "python",
   "pygments_lexer": "ipython3",
   "version": "3.10.11"
  }
 },
 "nbformat": 4,
 "nbformat_minor": 2
}
